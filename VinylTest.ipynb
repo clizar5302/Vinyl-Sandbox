{
  "nbformat": 4,
  "nbformat_minor": 0,
  "metadata": {
    "colab": {
      "provenance": []
    },
    "kernelspec": {
      "name": "python3",
      "display_name": "Python 3"
    },
    "language_info": {
      "name": "python"
    }
  },
  "cells": [
    {
      "cell_type": "markdown",
      "source": [
        "## Libraries and Auth"
      ],
      "metadata": {
        "id": "3v7iU3KfwieB"
      }
    },
    {
      "cell_type": "code",
      "source": [
        "!pip install discogs-client\n",
        "!pip install tensorflow\n",
        "!pip install colorthief opencv-python numpy\n",
        "!pip install webcolors"
      ],
      "metadata": {
        "id": "Ehh0e737GaPD"
      },
      "execution_count": null,
      "outputs": []
    },
    {
      "cell_type": "code",
      "source": [
        "# Import the discogs_client module\n",
        "import discogs_client\n",
        "from config import CONSUMER_KEY, CONSUMER_SECRET  # Import your credentials\n",
        "\n",
        "def authenticate_discogs():\n",
        "    \"\"\"Authenticate with the Discogs API and return the client.\"\"\"\n",
        "    # Initialize Discogs client\n",
        "    client = discogs_client.Client(user_agent='RecordCollectionApp/1.0', consumer_key=CONSUMER_KEY, consumer_secret=CONSUMER_SECRET)\n",
        "\n",
        "    try:\n",
        "        # Step 1: Get authorization URL\n",
        "        auth_url = client.get_authorize_url()\n",
        "        print(f\"Visit this URL to authorize the app: {auth_url}\")\n",
        "\n",
        "        # Step 2: Prompt user for verifier code from Discogs\n",
        "        verifier = input(\"Enter the code from Discogs: \")\n",
        "\n",
        "        # Step 3: Exchange verifier for an access token\n",
        "        access_token, access_secret = client.get_access_token(verifier)\n",
        "        print(\"Authentication successful!\")\n",
        "\n",
        "    except Exception as e:  # Catch all exceptions\n",
        "        print(\"Authentication failed:\", e)\n",
        "        return None\n",
        "\n",
        "    return client"
      ],
      "metadata": {
        "id": "0MNWydxOwg-Y"
      },
      "execution_count": 1,
      "outputs": []
    },
    {
      "cell_type": "markdown",
      "source": [
        "Authenticate the Session:"
      ],
      "metadata": {
        "id": "Gc-Zfh4KwB5-"
      }
    },
    {
      "cell_type": "code",
      "source": [
        "client = authenticate_discogs()"
      ],
      "metadata": {
        "id": "LwU1IU98wBGb",
        "colab": {
          "base_uri": "https://localhost:8080/"
        },
        "outputId": "ff1a388e-9242-43c7-da7f-d85bfa2b5491"
      },
      "execution_count": 2,
      "outputs": [
        {
          "output_type": "stream",
          "name": "stdout",
          "text": [
            "Visit this URL to authorize the app: ('rQGBtpVGKrEmUhdikaTVKEAKkfAxoegQcOdgAiSb', 'MWpUiLKZwTzqsmYkGbfrjhZfDEubfWQBwBsXMnmG', 'https://www.discogs.com/oauth/authorize?oauth_token=rQGBtpVGKrEmUhdikaTVKEAKkfAxoegQcOdgAiSb')\n",
            "Enter the code from Discogs: jFVnqHunsL\n",
            "Authentication successful!\n"
          ]
        }
      ]
    },
    {
      "cell_type": "markdown",
      "source": [
        "## My Collection"
      ],
      "metadata": {
        "id": "15zVJFe541JL"
      }
    },
    {
      "cell_type": "code",
      "source": [
        "def get_collection_by_genre(client, print_collection=False):\n",
        "    \"\"\"Fetch and return albums from the user's collection organized by genre without duplicates.\n",
        "\n",
        "    Args:\n",
        "        client: The Discogs API client.\n",
        "        print_collection (bool): If True, prints the collection; otherwise, it does not.\n",
        "\n",
        "    Returns:\n",
        "        dict: A dictionary of genres and their respective albums.\n",
        "    \"\"\"\n",
        "    try:\n",
        "        user = client.identity()  # Get your user information\n",
        "        folders = user.collection_folders  # Get the user's collection folders\n",
        "\n",
        "        genre_dict = {}  # Dictionary to hold genres and their respective albums\n",
        "        album_set = set()  # Set to hold unique albums\n",
        "\n",
        "        for folder in folders:\n",
        "            releases = folder.releases  # Get the releases in the folder\n",
        "            for release in releases:\n",
        "                release_details = release.release  # Fetch the release details\n",
        "                genres = release_details.genres  # Get genres from the release\n",
        "                for genre in genres:\n",
        "                    if genre not in genre_dict:\n",
        "                        genre_dict[genre] = []\n",
        "                    album_identifier = f\"{release_details.title} by {release_details.artists[0].name}\"\n",
        "                    if album_identifier not in album_set:\n",
        "                        album_set.add(album_identifier)\n",
        "                        genre_dict[genre].append(album_identifier)\n",
        "\n",
        "        # Print each genre and its albums if print_collection is True\n",
        "        if print_collection:\n",
        "            for genre, albums in genre_dict.items():\n",
        "                print(f\"\\nGenre: {genre}\")\n",
        "                for album in albums:\n",
        "                    print(f\"  - {album}\")\n",
        "\n",
        "        return genre_dict\n",
        "\n",
        "    except Exception as e:\n",
        "        print(\"Error retrieving collection:\", e)\n",
        "        return None"
      ],
      "metadata": {
        "id": "2OvLFfz942b7"
      },
      "execution_count": 3,
      "outputs": []
    },
    {
      "cell_type": "markdown",
      "source": [
        "Display the Collection:"
      ],
      "metadata": {
        "id": "7XmkUTaywppj"
      }
    },
    {
      "cell_type": "code",
      "source": [
        "if client:\n",
        "    collection_dict = get_collection_by_genre(client, print_collection=True)"
      ],
      "metadata": {
        "id": "ViMRpvGEwsrj",
        "colab": {
          "base_uri": "https://localhost:8080/"
        },
        "outputId": "06360ba0-219c-4230-da4f-873c9cf19cbd"
      },
      "execution_count": 4,
      "outputs": [
        {
          "output_type": "stream",
          "name": "stdout",
          "text": [
            "\n",
            "Genre: Rock\n",
            "  - Beat Crazy by Joe Jackson Band\n",
            "  - Even In The Quietest Moments... by Supertramp\n",
            "  - Everybody Else Is Doing It, So Why Can't We? by The Cranberries\n",
            "  - Waiting to Spill by The Backseat Lovers\n",
            "  - Duke by Genesis\n",
            "  - Charm by Clairo (2)\n",
            "  - Where The Light Is (John Mayer Live In Los Angeles) by John Mayer\n",
            "  - Stranger In The Alps by Phoebe Bridgers\n",
            "  - Punisher by Phoebe Bridgers\n",
            "  - A La Sala by Khruangbin\n",
            "  - Being Funny In A Foreign Language by The 1975\n",
            "  - Imperial Bedroom by Elvis Costello & The Attractions\n",
            "  - Kansas Anymore by Role Model (2)\n",
            "  - The Record by Boygenius\n",
            "  - Blood Bank by Bon Iver\n",
            "  - Parachutes by Coldplay\n",
            "  - NFR! by Lana Del Rey\n",
            "  - Take The Sadness Out Of Saturday Night by Bleachers\n",
            "  - Preservation Act 1 by The Kinks\n",
            "  - Blue by Joni Mitchell\n",
            "  - The Dance by Fleetwood Mac\n",
            "  - Stick Season (We’ll All Be Here Forever) by Noah Kahan\n",
            "  - Oncle Jazz by Men I Trust\n",
            "  - Hozier by Hozier\n",
            "  - Atlanta Millionaires Club by Faye Webster\n",
            "  - Bloom by Beach House\n",
            "  - Abacab by Genesis\n",
            "  - Luxury Liner by Emmylou Harris\n",
            "\n",
            "Genre: Reggae\n",
            "\n",
            "Genre: Jazz\n",
            "  - Come Away With Me by Norah Jones\n",
            "  - Jazz Impressions Of Japan by The Dave Brubeck Quartet\n",
            "  - Kind Of Blue by Miles Davis\n",
            "  - Living Legend by Art Pepper\n",
            "  - American Garage by Pat Metheny Group\n",
            "  - Still Life (Talking) by Pat Metheny Group\n",
            "  - Live At Butler University by The Four Freshmen\n",
            "  - The Saga Of Mister Jelly Lord Vol. 7 by Jelly Roll Morton\n",
            "  - Voices In Song And Percussion by Hal Mooney And His Orchestra\n",
            "  - Live Sessions by Charlie Parker\n",
            "  - The Very Best Of Bird by Charlie Parker\n",
            "\n",
            "Genre: Pop\n",
            "  - Cape Elizabeth by Noah Kahan\n",
            "  - Folklore by Taylor Swift\n",
            "  - Red (Taylor's Version) by Taylor Swift\n",
            "  - Dublin In A Symphony of Strings by The Symphony Of Strings\n",
            "\n",
            "Genre: Blues\n",
            "\n",
            "Genre: Hip Hop\n",
            "  - Scum Fuck Flower Boy by Tyler, The Creator\n",
            "  - MM..Food by MF Doom\n",
            "  - To Pimp A Butterfly by Kendrick Lamar\n",
            "  - The Divine Feminine by Mac Miller\n",
            "\n",
            "Genre: Funk / Soul\n",
            "  - Freudian by Daniel Caesar (2)\n",
            "\n",
            "Genre: Folk, World, & Country\n",
            "\n",
            "Genre: Non-Music\n",
            "  - The Perfect Season UCLA Basketball '63-'64 Won 30 - Lost 0 by Fred Hessler\n",
            "  - Das Katzenhaus by Самуил Маршак\n",
            "  - Blondie (Original Radio Broadcasts) by Blondie Radio Show\n",
            "\n",
            "Genre: Electronic\n",
            "  - Currents by Tame Impala\n",
            "  - Cigarettes After Sex by Cigarettes After Sex\n",
            "  - In Rainbows by Radiohead\n",
            "\n",
            "Genre: Children's\n",
            "\n",
            "Genre: Stage & Screen\n",
            "\n",
            "Genre: Classical\n",
            "\n",
            "Genre: Brass & Military\n",
            "  - Christmas Carols by Die Original Hoch- Und Deutschmeister\n"
          ]
        }
      ]
    },
    {
      "cell_type": "markdown",
      "source": [
        "## Recommendation Algorithm"
      ],
      "metadata": {
        "id": "NuoGh4eWK1F1"
      }
    },
    {
      "cell_type": "code",
      "source": [
        "import random\n",
        "from textblob import TextBlob\n",
        "from discogs_client import Client  # Make sure to initialize your Discogs API client as needed\n",
        "\n",
        "# Helper functions\n",
        "def analyze_vibe(vibe_description):\n",
        "    \"\"\"Analyze vibe using sentiment analysis and map it to mood-based genres.\"\"\"\n",
        "    vibe_blob = TextBlob(vibe_description)\n",
        "    sentiment = vibe_blob.sentiment.polarity  # Sentiment score between -1 (negative) and 1 (positive)\n",
        "\n",
        "    # Sentiment-based genre mapping\n",
        "    if sentiment > 0.3:\n",
        "        sentiment_genres = [\"Pop\", \"Electronic\", \"Funk\", \"Reggae\"]\n",
        "    elif sentiment < -0.3:\n",
        "        sentiment_genres = [\"Blues\", \"Classical\", \"Ambient\", \"Folk\"]\n",
        "    else:\n",
        "        sentiment_genres = [\"Jazz\", \"Hip Hop\", \"Lo-Fi\", \"Indie\"]\n",
        "\n",
        "    return sentiment_genres\n",
        "\n",
        "def map_activity_to_genre(activity):\n",
        "    \"\"\"Map specific activities to genres.\"\"\"\n",
        "    activity_genre_map = {\n",
        "        \"social gathering\": [\"Pop\", \"Dance\", \"Jazz\", \"Funk\"],\n",
        "        \"game night\": [\"Rock\", \"Hip Hop\", \"Funk\", \"Electronic\"],\n",
        "        \"cooking\": [\"Jazz\", \"Classical\", \"Bossa Nova\", \"Funk\"],\n",
        "        \"creative activities\": [\"Indie\", \"Ambient\", \"Electronic\", \"Pop\"],\n",
        "        \"reading\": [\"Classical\", \"Ambient\", \"Lo-Fi\", \"Jazz\", \"Indie\"],\n",
        "        \"wine/drinks\": [\"Jazz\", \"Blues\", \"Soul\", \"Classical\"],\n",
        "        \"just listening\": [\"Indie\", \"Alternative\", \"Ambient\", \"Folk\"],\n",
        "    }\n",
        "    return activity_genre_map.get(activity.lower(), [\"Indie\", \"Jazz\", \"Pop\"])  # Default genres\n",
        "\n",
        "def determine_genre(activity_description, vibe_description):\n",
        "    \"\"\"Map the user's activity and vibe to a suggested genre list.\"\"\"\n",
        "    # Step 1: Get activity-based genre suggestions\n",
        "    activity_genres = map_activity_to_genre(activity_description)\n",
        "\n",
        "    # Step 2: Get sentiment-based genre suggestions\n",
        "    sentiment_genres = analyze_vibe(vibe_description)\n",
        "\n",
        "    # Step 3: Combine both genre lists\n",
        "    combined_genres = list(set(activity_genres) | set(sentiment_genres))  # Union of both lists\n",
        "\n",
        "    return combined_genres  # Return the combined genres instead of one selected genre\n",
        "\n",
        "# Primary music recommendation function\n",
        "def music_recommendation(client):\n",
        "    \"\"\"Prompts the user for music preferences and recommends albums based on genre analysis.\"\"\"\n",
        "    # Step 1: Fetch collection by genre\n",
        "    genre_dict = get_collection_by_genre(client)\n",
        "    if not genre_dict:\n",
        "        print(\"No albums found in your collection.\")\n",
        "        return\n",
        "\n",
        "    print(\"Welcome to the Music Recommendation Assistant!\")\n",
        "\n",
        "    # Step 2: Prompt user input for session type\n",
        "    session_type = input(\"Is this for a group event (g) or a solo/intimate session (s)? \").strip().lower()\n",
        "\n",
        "    if session_type == 'g':\n",
        "        activity_description = input(\"Choose group activity: Social Gathering, Game Night, Cooking, Creative Activities: \").strip().lower()\n",
        "    elif session_type == 's':\n",
        "        activity_description = input(\"Choose solo activity: Reading, Cooking, Wine/Drinks, Game Night, Creative Activities, Just Listening: \").strip().lower()\n",
        "    else:\n",
        "        print(\"Invalid input. Please try again.\")\n",
        "        return\n",
        "\n",
        "    # Step 3: Prompt for vibe\n",
        "    vibe_description = input(\"Describe the vibe you're aiming for: \")\n",
        "\n",
        "    # Step 4: Determine genres based on activity and vibe\n",
        "    selected_genres = determine_genre(activity_description, vibe_description)\n",
        "\n",
        "    # Step 5: Recommend albums from the selected genres\n",
        "    recommended_albums = set()  # Use a set to avoid duplicates\n",
        "\n",
        "    # Loop through the selected genres to get albums\n",
        "    for genre in selected_genres:\n",
        "        albums_in_genre = genre_dict.get(genre, [])\n",
        "        if albums_in_genre:\n",
        "            recommended_albums.update(random.sample(albums_in_genre, min(1, len(albums_in_genre))))  # Get one album per genre\n",
        "\n",
        "    # Step 6: Check if we have recommendations\n",
        "    if not recommended_albums:\n",
        "        print(\"No albums found in any genres.\")\n",
        "        return\n",
        "\n",
        "    # Step 7: Output recommendations\n",
        "    print(f\"\\nFor your {session_type} event ({activity_description.capitalize()}) with a '{vibe_description}' vibe, we recommend:\")\n",
        "    for album in recommended_albums:\n",
        "        print(f\"Album: {album}\")\n",
        "\n",
        "# Example usage\n",
        "# client = Client('YOUR_USER_AGENT')  # Initialize the Discogs client with your user agent and token"
      ],
      "metadata": {
        "id": "HSQzgs3fK5rl"
      },
      "execution_count": 5,
      "outputs": []
    },
    {
      "cell_type": "markdown",
      "source": [
        "Generate Recommendations:"
      ],
      "metadata": {
        "id": "5gIE56g1w2xm"
      }
    },
    {
      "cell_type": "code",
      "source": [
        "music_recommendation(client)"
      ],
      "metadata": {
        "id": "pVHxWc2tw6nF",
        "colab": {
          "base_uri": "https://localhost:8080/"
        },
        "outputId": "3b380dd7-383d-4f26-a404-76c9e7a99df3"
      },
      "execution_count": 6,
      "outputs": [
        {
          "output_type": "stream",
          "name": "stdout",
          "text": [
            "Welcome to the Music Recommendation Assistant!\n",
            "Is this for a group event (g) or a solo/intimate session (s)? g\n",
            "Choose group activity: Social Gathering, Game Night, Cooking, Creative Activities: cooking\n",
            "Describe the vibe you're aiming for: upbeat\n",
            "\n",
            "For your g event (Cooking) with a 'upbeat' vibe, we recommend:\n",
            "Album: MM..Food by MF Doom\n",
            "Album: Come Away With Me by Norah Jones\n"
          ]
        }
      ]
    },
    {
      "cell_type": "markdown",
      "source": [
        "."
      ],
      "metadata": {
        "id": "Q41L8Zgiyf-_"
      }
    },
    {
      "cell_type": "markdown",
      "source": [
        "## Album Art Fetching"
      ],
      "metadata": {
        "id": "y9mVav-XdKuk"
      }
    },
    {
      "cell_type": "code",
      "source": [
        "client = authenticate_discogs()\n",
        "\n",
        "# Global variable to hold the album cover URL\n",
        "album_cover_url = \"\"\n",
        "\n",
        "def get_album_cover(album_title, client):\n",
        "    \"\"\"Retrieve the cover art for a specific album and store it in a global variable.\"\"\"\n",
        "    global album_cover_url  # Declare the use of the global variable\n",
        "\n",
        "    try:\n",
        "        # Search for the album using the authenticated client\n",
        "        results = client.search(album_title, type='release')\n",
        "        if not results:\n",
        "            print(f\"No results found for '{album_title}'.\")\n",
        "            return None\n",
        "\n",
        "        # Get the first result\n",
        "        album = results[0]\n",
        "\n",
        "        # Extract the cover art URL from the images attribute\n",
        "        if album.images:\n",
        "            album_cover_url = album.images[0]['uri']  # Get the URL of the first image\n",
        "            print(f\"Fetched album cover URL for '{album_title}': {album_cover_url}\")\n",
        "            return album_cover_url\n",
        "        else:\n",
        "            print(f\"No cover images found for '{album_title}'.\")\n",
        "            return None\n",
        "\n",
        "    except Exception as e:\n",
        "        print(\"Error retrieving album cover art:\", e)\n",
        "        return None"
      ],
      "metadata": {
        "id": "te13k3_K1sAE",
        "colab": {
          "base_uri": "https://localhost:8080/"
        },
        "outputId": "333e1915-40ad-43d2-f53f-392e1961871d"
      },
      "execution_count": 7,
      "outputs": [
        {
          "output_type": "stream",
          "name": "stdout",
          "text": [
            "Visit this URL to authorize the app: ('JMviqjRwDUXyuVailfTbxbkLAdSUAfCUIXgyiDlW', 'UQurTINVlEknYuYSFaBTiFjUbupABsFdiXjtUSIO', 'https://www.discogs.com/oauth/authorize?oauth_token=JMviqjRwDUXyuVailfTbxbkLAdSUAfCUIXgyiDlW')\n",
            "Enter the code from Discogs: nCzLhoKiSi\n",
            "Authentication successful!\n"
          ]
        }
      ]
    },
    {
      "cell_type": "code",
      "source": [
        "# Main flow\n",
        "if __name__ == \"__main__\":\n",
        "    if client:  # Check if the client is valid before proceeding\n",
        "        album_title = input(\"Enter the album title: \")\n",
        "        get_album_cover(album_title, client)\n",
        "    else:\n",
        "        print(\"Authentication failed. Please try again.\")"
      ],
      "metadata": {
        "id": "jNWbGJrP2iJk",
        "colab": {
          "base_uri": "https://localhost:8080/"
        },
        "outputId": "de745254-4c9f-4044-95db-b4f3d7f50e51"
      },
      "execution_count": 15,
      "outputs": [
        {
          "output_type": "stream",
          "name": "stdout",
          "text": [
            "Enter the album title: nevermind\n",
            "Fetched album cover URL for 'nevermind': https://i.discogs.com/uCeQtLv9OSNjC5_AjarCojZNepI9vqcnYeqsImnzXyg/rs:fit/g:sm/q:90/h:600/w:600/czM6Ly9kaXNjb2dz/LWRhdGFiYXNlLWlt/YWdlcy9SLTcwOTcw/NTEtMTU1NjQ0NDE4/MC03NTA1LmpwZWc.jpeg\n"
          ]
        }
      ]
    },
    {
      "cell_type": "markdown",
      "source": [
        "."
      ],
      "metadata": {
        "id": "hWwtVsVJ2uAW"
      }
    },
    {
      "cell_type": "markdown",
      "source": [
        "## Album Art Classification"
      ],
      "metadata": {
        "id": "uIifisy4uX43"
      }
    },
    {
      "cell_type": "code",
      "source": [
        "import tensorflow as tf\n",
        "from tensorflow.keras.preprocessing import image\n",
        "import numpy as np\n",
        "import requests\n",
        "from PIL import Image\n",
        "from io import BytesIO\n",
        "\n",
        "# Load the pre-trained MobileNetV2 model\n",
        "model = tf.keras.applications.MobileNetV2(weights='imagenet')\n",
        "\n",
        "def preprocess_image(img_url):\n",
        "    \"\"\"Load and preprocess the image.\"\"\"\n",
        "    # Set custom headers to include User-Agent\n",
        "    headers = {\n",
        "        'User-Agent': 'Mozilla/5.0 (Windows NT 10.0; Win64; x64) AppleWebKit/537.36 (KHTML, like Gecko) Chrome/90.0.4430.93 Safari/537.36'\n",
        "    }\n",
        "\n",
        "    # Load the image from the URL with custom headers\n",
        "    response = requests.get(img_url, headers=headers)\n",
        "\n",
        "    # Check if the request was successful\n",
        "    if response.status_code != 200:\n",
        "        print(f\"Error: Unable to fetch image, status code: {response.status_code}\")\n",
        "        return None\n",
        "\n",
        "    # Check content type\n",
        "    content_type = response.headers.get('Content-Type')\n",
        "    print(f\"Content type: {content_type}\")  # Debug statement\n",
        "\n",
        "    # Ensure the content type is an image\n",
        "    if 'image' not in content_type:\n",
        "        print(\"Error: URL does not point to an image.\")\n",
        "        return None\n",
        "\n",
        "    try:\n",
        "        img = Image.open(BytesIO(response.content))\n",
        "    except Exception as e:\n",
        "        print(\"Error opening image:\", e)\n",
        "        return None\n",
        "\n",
        "    # Resize the image to the input shape of MobileNetV2\n",
        "    img = img.resize((224, 224))\n",
        "\n",
        "    # Convert the image to an array and preprocess it\n",
        "    img_array = image.img_to_array(img)\n",
        "    img_array = np.expand_dims(img_array, axis=0)  # Add batch dimension\n",
        "    img_array = tf.keras.applications.mobilenet_v2.preprocess_input(img_array)\n",
        "\n",
        "    return img_array\n",
        "\n",
        "def predict_aesthetic(img_url):\n",
        "    \"\"\"Predict the aesthetic category of the album cover.\"\"\"\n",
        "    img_array = preprocess_image(img_url)\n",
        "\n",
        "    # If the image preprocessing failed, return\n",
        "    if img_array is None:\n",
        "        return\n",
        "\n",
        "    # Make a prediction\n",
        "    predictions = model.predict(img_array)\n",
        "\n",
        "    # Decode the predictions\n",
        "    decoded_predictions = tf.keras.applications.mobilenet_v2.decode_predictions(predictions, top=5)[0]\n",
        "\n",
        "    # Print the top 5 predictions\n",
        "    for i, (imagenet_id, label, score) in enumerate(decoded_predictions):\n",
        "        print(f\"{i + 1}: {label} ({score:.2f})\")\n",
        "\n",
        "# Example usage\n",
        "if __name__ == \"__main__\":\n",
        "    predict_aesthetic(album_cover_url)"
      ],
      "metadata": {
        "id": "pL2oW3hdpCsm",
        "colab": {
          "base_uri": "https://localhost:8080/"
        },
        "outputId": "b9020133-7526-423f-b4e9-f9657b149a02"
      },
      "execution_count": 16,
      "outputs": [
        {
          "output_type": "stream",
          "name": "stdout",
          "text": [
            "Content type: image/jpeg\n",
            "\u001b[1m1/1\u001b[0m \u001b[32m━━━━━━━━━━━━━━━━━━━━\u001b[0m\u001b[37m\u001b[0m \u001b[1m1s\u001b[0m 1s/step\n",
            "1: snorkel (0.30)\n",
            "2: scuba_diver (0.05)\n",
            "3: jellyfish (0.04)\n",
            "4: electric_ray (0.03)\n",
            "5: hammerhead (0.03)\n"
          ]
        }
      ]
    },
    {
      "cell_type": "markdown",
      "source": [
        "## Album Cover Color Classification"
      ],
      "metadata": {
        "id": "Ch2yvMs0ualh"
      }
    },
    {
      "cell_type": "code",
      "source": [
        "import requests\n",
        "from PIL import Image\n",
        "from io import BytesIO\n",
        "from colorthief import ColorThief\n",
        "\n",
        "# Custom color dictionary\n",
        "COLOR_DICT = {\n",
        "    'red': (255, 0, 0),\n",
        "    'green': (0, 128, 0),\n",
        "    'blue': (0, 0, 255),\n",
        "    'yellow': (255, 255, 0),\n",
        "    'cyan': (0, 255, 255),\n",
        "    'magenta': (255, 0, 255),\n",
        "    'black': (0, 0, 0),\n",
        "    'white': (255, 255, 255),\n",
        "    'gray': (128, 128, 128),\n",
        "    'orange': (255, 165, 0),\n",
        "    'purple': (128, 0, 128),\n",
        "    'pink': (255, 192, 203),\n",
        "    'brown': (165, 42, 42),\n",
        "    'lightblue': (173, 216, 230),\n",
        "    # Add more colors as needed\n",
        "}\n",
        "\n",
        "def fetch_image(img_url):\n",
        "    \"\"\"Fetch the image from the given URL.\"\"\"\n",
        "    # Set custom headers to include User-Agent\n",
        "    headers = {\n",
        "        'User-Agent': 'Mozilla/5.0 (Windows NT 10.0; Win64; x64) Gecko/20100101 Firefox/100.0',\n",
        "        'Accept': 'image/webp,*/*',\n",
        "        'Referer': 'https://www.example.com'  # Adjust this if necessary\n",
        "    }\n",
        "\n",
        "    # Load the image from the URL with custom headers\n",
        "    response = requests.get(img_url, headers=headers)\n",
        "\n",
        "    # Check if the request was successful\n",
        "    if response.status_code != 200:\n",
        "        print(f\"Error: Unable to fetch image, status code: {response.status_code}\")\n",
        "        return None\n",
        "\n",
        "    # Check content type\n",
        "    content_type = response.headers.get('Content-Type')\n",
        "    print(f\"Content type: {content_type}\")  # Debug statement\n",
        "\n",
        "    # Ensure the content type is an image\n",
        "    if 'image' not in content_type:\n",
        "        print(\"Error: URL does not point to an image.\")\n",
        "        return None\n",
        "\n",
        "    try:\n",
        "        img = Image.open(BytesIO(response.content))\n",
        "    except Exception as e:\n",
        "        print(\"Error opening image:\", e)\n",
        "        return None\n",
        "\n",
        "    return img\n",
        "\n",
        "def rgb_to_color_name(rgb):\n",
        "    \"\"\"Convert RGB values to the closest color name using the custom color dictionary.\"\"\"\n",
        "    # Normalize the RGB values\n",
        "    rgb = (rgb[0], rgb[1], rgb[2])  # Ensure it's a tuple\n",
        "\n",
        "    # Try to get the closest name based on the RGB value\n",
        "    closest_name = None\n",
        "    min_distance = float('inf')\n",
        "\n",
        "    # Iterate over the custom color dictionary\n",
        "    for name, color_rgb in COLOR_DICT.items():\n",
        "        # Calculate the Euclidean distance\n",
        "        distance = ((rgb[0] - color_rgb[0]) ** 2 +\n",
        "                     (rgb[1] - color_rgb[1]) ** 2 +\n",
        "                     (rgb[2] - color_rgb[2]) ** 2) ** 0.5\n",
        "\n",
        "        if distance < min_distance:\n",
        "            min_distance = distance\n",
        "            closest_name = name\n",
        "\n",
        "    return closest_name\n",
        "\n",
        "def extract_colors(img):\n",
        "    \"\"\"Extract colors from the image using ColorThief.\"\"\"\n",
        "    # Save the image to a temporary file for ColorThief\n",
        "    temp_file_path = \"temp_image.jpg\"\n",
        "    img.save(temp_file_path)\n",
        "\n",
        "    # Initialize ColorThief with the image\n",
        "    color_thief = ColorThief(temp_file_path)\n",
        "\n",
        "    # Get the dominant color\n",
        "    dominant_color = color_thief.get_color(quality=1)\n",
        "\n",
        "    # Build a color palette\n",
        "    palette = color_thief.get_palette(color_count=6)\n",
        "\n",
        "    return dominant_color, palette\n",
        "\n",
        "def analyze_album_cover(img_url):\n",
        "    \"\"\"Fetch and analyze the album cover for dominant colors.\"\"\"\n",
        "    img = fetch_image(img_url)\n",
        "\n",
        "    # If the image fetching failed, return\n",
        "    if img is None:\n",
        "        return\n",
        "\n",
        "    # Extract colors from the image\n",
        "    dominant_color, palette = extract_colors(img)\n",
        "\n",
        "    # Convert RGB to color names\n",
        "    dominant_color_name = rgb_to_color_name(dominant_color)\n",
        "    palette_names = [rgb_to_color_name(color) for color in palette]\n",
        "\n",
        "    # Print results\n",
        "    print(f\"Dominant Color: {dominant_color} - {dominant_color_name}\")\n",
        "    print(\"Color Palette:\")\n",
        "    for color, name in zip(palette, palette_names):\n",
        "        print(f\"{color} - {name}\")\n",
        "\n",
        "# Example usage\n",
        "if __name__ == \"__main__\":\n",
        "    analyze_album_cover(album_cover_url)"
      ],
      "metadata": {
        "id": "LijAALREqZfd",
        "colab": {
          "base_uri": "https://localhost:8080/"
        },
        "outputId": "369b85fc-4250-4469-fa99-8b47f7051aa6"
      },
      "execution_count": 17,
      "outputs": [
        {
          "output_type": "stream",
          "name": "stdout",
          "text": [
            "Content type: image/jpeg\n",
            "Dominant Color: (30, 79, 134) - gray\n",
            "Color Palette:\n",
            "(25, 67, 126) - gray\n",
            "(49, 198, 223) - cyan\n",
            "(189, 219, 223) - lightblue\n",
            "(23, 161, 203) - cyan\n",
            "(52, 140, 168) - gray\n",
            "(15, 11, 24) - black\n"
          ]
        }
      ]
    },
    {
      "cell_type": "markdown",
      "source": [
        "."
      ],
      "metadata": {
        "id": "yoXyzUwX4Gls"
      }
    }
  ]
}