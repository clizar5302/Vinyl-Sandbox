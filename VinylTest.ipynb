{
  "nbformat": 4,
  "nbformat_minor": 0,
  "metadata": {
    "colab": {
      "provenance": []
    },
    "kernelspec": {
      "name": "python3",
      "display_name": "Python 3"
    },
    "language_info": {
      "name": "python"
    }
  },
  "cells": [
    {
      "cell_type": "markdown",
      "source": [
        "## Libraries and Auth"
      ],
      "metadata": {
        "id": "3v7iU3KfwieB"
      }
    },
    {
      "cell_type": "code",
      "source": [
        "!pip install discogs-client\n",
        "!pip install tensorflow\n",
        "!pip install colorthief opencv-python numpy\n",
        "!pip install webcolors"
      ],
      "metadata": {
        "id": "Ehh0e737GaPD"
      },
      "execution_count": null,
      "outputs": []
    },
    {
      "cell_type": "code",
      "source": [
        "import discogs_client\n",
        "from config import CONSUMER_KEY, CONSUMER_SECRET  # Import your credentials\n",
        "\n",
        "def authenticate_discogs():\n",
        "    client = discogs_client.Client(user_agent='RecordCollectionApp/1.0', consumer_key=CONSUMER_KEY, consumer_secret=CONSUMER_SECRET)\n",
        "\n",
        "    try:\n",
        "        auth_url = client.get_authorize_url()\n",
        "        print(f\"Visit this URL to authorize the app: {auth_url}\")\n",
        "\n",
        "        verifier = input(\"Enter the code from Discogs: \")\n",
        "\n",
        "        access_token, access_secret = client.get_access_token(verifier)\n",
        "        print(\"Authentication successful!\")\n",
        "\n",
        "    except Exception as e:\n",
        "        print(\"Authentication failed:\", e)\n",
        "        return None\n",
        "\n",
        "    return client"
      ],
      "metadata": {
        "id": "0MNWydxOwg-Y"
      },
      "execution_count": null,
      "outputs": []
    },
    {
      "cell_type": "markdown",
      "source": [
        "Authenticate the Session:"
      ],
      "metadata": {
        "id": "Gc-Zfh4KwB5-"
      }
    },
    {
      "cell_type": "code",
      "source": [
        "client = authenticate_discogs()"
      ],
      "metadata": {
        "id": "LwU1IU98wBGb"
      },
      "execution_count": null,
      "outputs": []
    },
    {
      "cell_type": "markdown",
      "source": [
        "## My Collection"
      ],
      "metadata": {
        "id": "15zVJFe541JL"
      }
    },
    {
      "cell_type": "code",
      "source": [
        "def get_collection_by_genre(client, print_collection=False):\n",
        "    \"\"\"Fetch and return albums from the user's collection organized by genre without duplicates.\n",
        "\n",
        "    Args:\n",
        "        client: The Discogs API client.\n",
        "        print_collection (bool): If True, prints the collection; otherwise, it does not.\n",
        "\n",
        "    Returns:\n",
        "        dict: A dictionary of genres and their respective albums.\n",
        "    \"\"\"\n",
        "    try:\n",
        "        user = client.identity()\n",
        "        folders = user.collection_folders\n",
        "\n",
        "        genre_dict = {}\n",
        "        album_set = set()\n",
        "\n",
        "        for folder in folders:\n",
        "            releases = folder.releases\n",
        "            for release in releases:\n",
        "                release_details = release.release\n",
        "                genres = release_details.genres\n",
        "                for genre in genres:\n",
        "                    if genre not in genre_dict:\n",
        "                        genre_dict[genre] = []\n",
        "                    album_identifier = f\"{release_details.title} by {release_details.artists[0].name}\"\n",
        "                    if album_identifier not in album_set:\n",
        "                        album_set.add(album_identifier)\n",
        "                        genre_dict[genre].append(album_identifier)\n",
        "\n",
        "        if print_collection:\n",
        "            for genre, albums in genre_dict.items():\n",
        "                print(f\"\\nGenre: {genre}\")\n",
        "                for album in albums:\n",
        "                    print(f\"  - {album}\")\n",
        "\n",
        "        return genre_dict\n",
        "\n",
        "    except Exception as e:\n",
        "        print(\"Error retrieving collection:\", e)\n",
        "        return None"
      ],
      "metadata": {
        "id": "2OvLFfz942b7"
      },
      "execution_count": null,
      "outputs": []
    },
    {
      "cell_type": "markdown",
      "source": [
        "Display the Collection:"
      ],
      "metadata": {
        "id": "7XmkUTaywppj"
      }
    },
    {
      "cell_type": "code",
      "source": [
        "if client:\n",
        "    collection_dict = get_collection_by_genre(client, print_collection=True)"
      ],
      "metadata": {
        "id": "ViMRpvGEwsrj",
        "colab": {
          "base_uri": "https://localhost:8080/"
        },
        "outputId": "7db02550-f2be-4d5a-a1d4-b04565a33342"
      },
      "execution_count": 9,
      "outputs": [
        {
          "output_type": "stream",
          "name": "stdout",
          "text": [
            "\n",
            "Genre: Rock\n",
            "  - Beat Crazy by Joe Jackson Band\n",
            "  - Even In The Quietest Moments... by Supertramp\n",
            "  - Everybody Else Is Doing It, So Why Can't We? by The Cranberries\n",
            "  - Waiting to Spill by The Backseat Lovers\n",
            "  - Duke by Genesis\n",
            "  - Charm by Clairo (2)\n",
            "  - Where The Light Is (John Mayer Live In Los Angeles) by John Mayer\n",
            "  - Stranger In The Alps by Phoebe Bridgers\n",
            "  - Punisher by Phoebe Bridgers\n",
            "  - A La Sala by Khruangbin\n",
            "  - Being Funny In A Foreign Language by The 1975\n",
            "  - Imperial Bedroom by Elvis Costello & The Attractions\n",
            "  - Kansas Anymore by Role Model (2)\n",
            "  - The Record by Boygenius\n",
            "  - Blood Bank by Bon Iver\n",
            "  - Parachutes by Coldplay\n",
            "  - NFR! by Lana Del Rey\n",
            "  - Take The Sadness Out Of Saturday Night by Bleachers\n",
            "  - Preservation Act 1 by The Kinks\n",
            "  - Blue by Joni Mitchell\n",
            "  - The Dance by Fleetwood Mac\n",
            "  - Stick Season (We’ll All Be Here Forever) by Noah Kahan\n",
            "  - Oncle Jazz by Men I Trust\n",
            "  - Hozier by Hozier\n",
            "  - Atlanta Millionaires Club by Faye Webster\n",
            "  - Bloom by Beach House\n",
            "  - Abacab by Genesis\n",
            "  - Luxury Liner by Emmylou Harris\n",
            "\n",
            "Genre: Reggae\n",
            "\n",
            "Genre: Jazz\n",
            "  - Come Away With Me by Norah Jones\n",
            "  - Jazz Impressions Of Japan by The Dave Brubeck Quartet\n",
            "  - Kind Of Blue by Miles Davis\n",
            "  - Living Legend by Art Pepper\n",
            "  - American Garage by Pat Metheny Group\n",
            "  - Still Life (Talking) by Pat Metheny Group\n",
            "  - Live At Butler University by The Four Freshmen\n",
            "  - The Saga Of Mister Jelly Lord Vol. 7 by Jelly Roll Morton\n",
            "  - Voices In Song And Percussion by Hal Mooney And His Orchestra\n",
            "  - Live Sessions by Charlie Parker\n",
            "  - The Very Best Of Bird by Charlie Parker\n",
            "\n",
            "Genre: Pop\n",
            "  - Cape Elizabeth by Noah Kahan\n",
            "  - Folklore by Taylor Swift\n",
            "  - Red (Taylor's Version) by Taylor Swift\n",
            "  - Dublin In A Symphony of Strings by The Symphony Of Strings\n",
            "\n",
            "Genre: Blues\n",
            "\n",
            "Genre: Hip Hop\n",
            "  - Scum Fuck Flower Boy by Tyler, The Creator\n",
            "  - MM..Food by MF Doom\n",
            "  - To Pimp A Butterfly by Kendrick Lamar\n",
            "  - The Divine Feminine by Mac Miller\n",
            "\n",
            "Genre: Funk / Soul\n",
            "  - Freudian by Daniel Caesar (2)\n",
            "\n",
            "Genre: Folk, World, & Country\n",
            "\n",
            "Genre: Non-Music\n",
            "  - The Perfect Season UCLA Basketball '63-'64 Won 30 - Lost 0 by Fred Hessler\n",
            "  - Das Katzenhaus by Самуил Маршак\n",
            "  - Blondie (Original Radio Broadcasts) by Blondie Radio Show\n",
            "\n",
            "Genre: Electronic\n",
            "  - Currents by Tame Impala\n",
            "  - Cigarettes After Sex by Cigarettes After Sex\n",
            "  - In Rainbows by Radiohead\n",
            "\n",
            "Genre: Children's\n",
            "\n",
            "Genre: Stage & Screen\n",
            "\n",
            "Genre: Classical\n",
            "\n",
            "Genre: Brass & Military\n",
            "  - Christmas Carols by Die Original Hoch- Und Deutschmeister\n"
          ]
        }
      ]
    },
    {
      "cell_type": "markdown",
      "source": [
        "## Recommendation Algorithm"
      ],
      "metadata": {
        "id": "NuoGh4eWK1F1"
      }
    },
    {
      "cell_type": "code",
      "source": [
        "import random\n",
        "from textblob import TextBlob\n",
        "from discogs_client import Client\n",
        "\n",
        "# Helper functions\n",
        "def analyze_vibe(vibe_description):\n",
        "    \"\"\"Analyze vibe using sentiment analysis and map it to mood-based genres.\"\"\"\n",
        "    vibe_blob = TextBlob(vibe_description)\n",
        "    sentiment = vibe_blob.sentiment.polarity  # Sentiment score between -1 (negative) and 1 (positive)\n",
        "\n",
        "    # Sentiment-based genre mapping\n",
        "    if sentiment > 0.3:\n",
        "        sentiment_genres = [\"Pop\", \"Electronic\", \"Funk\", \"Reggae\"]\n",
        "    elif sentiment < -0.3:\n",
        "        sentiment_genres = [\"Blues\", \"Classical\", \"Ambient\", \"Folk\"]\n",
        "    else:\n",
        "        sentiment_genres = [\"Jazz\", \"Hip Hop\", \"Lo-Fi\", \"Indie\"]\n",
        "\n",
        "    return sentiment_genres\n",
        "\n",
        "def map_activity_to_genre(activity):\n",
        "    \"\"\"Map specific activities to genres.\"\"\"\n",
        "    activity_genre_map = {\n",
        "        \"social gathering\": [\"Pop\", \"Dance\", \"Jazz\", \"Funk\"],\n",
        "        \"game night\": [\"Rock\", \"Hip Hop\", \"Funk\", \"Electronic\"],\n",
        "        \"cooking\": [\"Jazz\", \"Classical\", \"Bossa Nova\", \"Funk\"],\n",
        "        \"creative activities\": [\"Indie\", \"Ambient\", \"Electronic\", \"Pop\"],\n",
        "        \"reading\": [\"Classical\", \"Ambient\", \"Lo-Fi\", \"Jazz\", \"Indie\"],\n",
        "        \"wine/drinks\": [\"Jazz\", \"Blues\", \"Soul\", \"Classical\"],\n",
        "        \"just listening\": [\"Indie\", \"Alternative\", \"Ambient\", \"Folk\"],\n",
        "    }\n",
        "    return activity_genre_map.get(activity.lower(), [\"Indie\", \"Jazz\", \"Pop\"])  # Default genres\n",
        "\n",
        "def determine_genre(activity_description, vibe_description):\n",
        "    \"\"\"Map the user's activity and vibe to a suggested genre list.\"\"\"\n",
        "    activity_genres = map_activity_to_genre(activity_description)\n",
        "\n",
        "    sentiment_genres = analyze_vibe(vibe_description)\n",
        "\n",
        "    combined_genres = list(set(activity_genres) | set(sentiment_genres))\n",
        "\n",
        "    return combined_genres\n",
        "\n",
        "def music_recommendation(client):\n",
        "    \"\"\"Prompts the user for music preferences and recommends albums based on genre analysis.\"\"\"\n",
        "    # Fetch collection by genre\n",
        "    genre_dict = get_collection_by_genre(client)\n",
        "    if not genre_dict:\n",
        "        print(\"No albums found in your collection.\")\n",
        "        return\n",
        "\n",
        "    print(\"Welcome to the Music Recommendation Assistant!\")\n",
        "\n",
        "    # Prompt user input\n",
        "    session_type = input(\"Is this for a group event (g) or a solo/intimate session (s)? \").strip().lower()\n",
        "\n",
        "    if session_type == 'g':\n",
        "        activity_description = input(\"Choose group activity: Social Gathering, Game Night, Cooking, Creative Activities: \").strip().lower()\n",
        "    elif session_type == 's':\n",
        "        activity_description = input(\"Choose solo activity: Reading, Cooking, Wine/Drinks, Game Night, Creative Activities, Just Listening: \").strip().lower()\n",
        "    else:\n",
        "        print(\"Invalid input. Please try again.\")\n",
        "        return\n",
        "\n",
        "    vibe_description = input(\"Describe the vibe you're aiming for: \")\n",
        "\n",
        "    selected_genres = determine_genre(activity_description, vibe_description)\n",
        "\n",
        "    # Recommend albums from the selected genres\n",
        "    recommended_albums = set()  # Use a set to avoid duplicates\n",
        "\n",
        "    # Loop through the selected genres to get albums\n",
        "    for genre in selected_genres:\n",
        "        albums_in_genre = genre_dict.get(genre, [])\n",
        "        if albums_in_genre:\n",
        "            recommended_albums.update(random.sample(albums_in_genre, min(1, len(albums_in_genre))))  # Get one album per genre\n",
        "\n",
        "    if not recommended_albums:\n",
        "        print(\"No albums found in any genres.\")\n",
        "        return\n",
        "\n",
        "    # Output\n",
        "    print(f\"\\nFor your {session_type} event ({activity_description.capitalize()}) with a '{vibe_description}' vibe, we recommend:\")\n",
        "    for album in recommended_albums:\n",
        "        print(f\"Album: {album}\")"
      ],
      "metadata": {
        "id": "HSQzgs3fK5rl"
      },
      "execution_count": null,
      "outputs": []
    },
    {
      "cell_type": "markdown",
      "source": [
        "Generate Recommendations:"
      ],
      "metadata": {
        "id": "5gIE56g1w2xm"
      }
    },
    {
      "cell_type": "code",
      "source": [
        "music_recommendation(client)"
      ],
      "metadata": {
        "id": "pVHxWc2tw6nF",
        "colab": {
          "base_uri": "https://localhost:8080/"
        },
        "outputId": "1fb160e0-4645-40b2-cda6-d95872cf4721"
      },
      "execution_count": 10,
      "outputs": [
        {
          "output_type": "stream",
          "name": "stdout",
          "text": [
            "Welcome to the Music Recommendation Assistant!\n",
            "Is this for a group event (g) or a solo/intimate session (s)? g\n",
            "Choose group activity: Social Gathering, Game Night, Cooking, Creative Activities: game night\n",
            "Describe the vibe you're aiming for: relaxed\n",
            "\n",
            "For your g event (Game night) with a 'relaxed' vibe, we recommend:\n",
            "Album: Cigarettes After Sex by Cigarettes After Sex\n",
            "Album: Scum Fuck Flower Boy by Tyler, The Creator\n",
            "Album: Voices In Song And Percussion by Hal Mooney And His Orchestra\n",
            "Album: Where The Light Is (John Mayer Live In Los Angeles) by John Mayer\n"
          ]
        }
      ]
    },
    {
      "cell_type": "markdown",
      "source": [
        "."
      ],
      "metadata": {
        "id": "Q41L8Zgiyf-_"
      }
    },
    {
      "cell_type": "markdown",
      "source": [
        "## Album Art Fetching"
      ],
      "metadata": {
        "id": "y9mVav-XdKuk"
      }
    },
    {
      "cell_type": "code",
      "source": [
        "client = authenticate_discogs()\n",
        "\n",
        "# Global variable to hold the album cover URL\n",
        "album_cover_url = \"\"\n",
        "\n",
        "def get_album_cover(album_title, client):\n",
        "    \"\"\"Retrieve the cover art for a specific album and store it in a global variable.\"\"\"\n",
        "    global album_cover_url\n",
        "\n",
        "    try:\n",
        "        # Search for the album using the authenticated client\n",
        "        results = client.search(album_title, type='release')\n",
        "        if not results:\n",
        "            print(f\"No results found for '{album_title}'.\")\n",
        "            return None\n",
        "\n",
        "        # Get the first result\n",
        "        album = results[0]\n",
        "\n",
        "        # Extract the cover art URL from the images attribute\n",
        "        if album.images:\n",
        "            album_cover_url = album.images[0]['uri']  # Get the URL of the first image\n",
        "            print(f\"Fetched album cover URL for '{album_title}': {album_cover_url}\")\n",
        "            return album_cover_url\n",
        "        else:\n",
        "            print(f\"No cover images found for '{album_title}'.\")\n",
        "            return None\n",
        "\n",
        "    except Exception as e:\n",
        "        print(\"Error retrieving album cover art:\", e)\n",
        "        return None"
      ],
      "metadata": {
        "id": "te13k3_K1sAE"
      },
      "execution_count": null,
      "outputs": []
    },
    {
      "cell_type": "code",
      "source": [
        "# Main flow\n",
        "if __name__ == \"__main__\":\n",
        "    if client:  # Check if the client is valid before proceeding\n",
        "        album_title = input(\"Enter the album title: \")\n",
        "        get_album_cover(album_title, client)\n",
        "    else:\n",
        "        print(\"Authentication failed. Please try again.\")"
      ],
      "metadata": {
        "id": "jNWbGJrP2iJk",
        "colab": {
          "base_uri": "https://localhost:8080/"
        },
        "outputId": "a25124de-4144-47de-a1aa-982a3ab67b0a"
      },
      "execution_count": 11,
      "outputs": [
        {
          "output_type": "stream",
          "name": "stdout",
          "text": [
            "Enter the album title: born to run\n",
            "Fetched album cover URL for 'born to run': https://i.discogs.com/Ko0PmM0LTv-X1yntH9WL_M3mwrBxt0nECy6OpsNSV2s/rs:fit/g:sm/q:90/h:600/w:599/czM6Ly9kaXNjb2dz/LWRhdGFiYXNlLWlt/YWdlcy9SLTE4NzQy/NTMtMTU4ODE3NzA1/MS0zMzkwLmpwZWc.jpeg\n"
          ]
        }
      ]
    },
    {
      "cell_type": "markdown",
      "source": [
        "."
      ],
      "metadata": {
        "id": "hWwtVsVJ2uAW"
      }
    },
    {
      "cell_type": "markdown",
      "source": [
        "## Album Art Classification"
      ],
      "metadata": {
        "id": "uIifisy4uX43"
      }
    },
    {
      "cell_type": "code",
      "source": [
        "import tensorflow as tf\n",
        "from tensorflow.keras.preprocessing import image\n",
        "import numpy as np\n",
        "import requests\n",
        "from PIL import Image\n",
        "from io import BytesIO\n",
        "\n",
        "# Load the pre-trained MobileNetV2 model\n",
        "model = tf.keras.applications.MobileNetV2(weights='imagenet')\n",
        "\n",
        "def preprocess_image(img_url):\n",
        "    \"\"\"Load and preprocess the image.\"\"\"\n",
        "    # Set custom headers to include User-Agent\n",
        "    headers = {\n",
        "        'User-Agent': 'Mozilla/5.0 (Windows NT 10.0; Win64; x64) AppleWebKit/537.36 (KHTML, like Gecko) Chrome/90.0.4430.93 Safari/537.36'\n",
        "    }\n",
        "\n",
        "    # Load the image from the URL with custom headers\n",
        "    response = requests.get(img_url, headers=headers)\n",
        "\n",
        "    # Check if the request was successful\n",
        "    if response.status_code != 200:\n",
        "        print(f\"Error: Unable to fetch image, status code: {response.status_code}\")\n",
        "        return None\n",
        "\n",
        "    # Check content type\n",
        "    content_type = response.headers.get('Content-Type')\n",
        "    print(f\"Content type: {content_type}\")  # Debug statement\n",
        "\n",
        "    # Ensure the content type is an image\n",
        "    if 'image' not in content_type:\n",
        "        print(\"Error: URL does not point to an image.\")\n",
        "        return None\n",
        "\n",
        "    try:\n",
        "        img = Image.open(BytesIO(response.content))\n",
        "    except Exception as e:\n",
        "        print(\"Error opening image:\", e)\n",
        "        return None\n",
        "\n",
        "    # Resize the image to the input shape of MobileNetV2\n",
        "    img = img.resize((224, 224))\n",
        "\n",
        "    # Convert the image to an array and preprocess it\n",
        "    img_array = image.img_to_array(img)\n",
        "    img_array = np.expand_dims(img_array, axis=0)  # Add batch dimension\n",
        "    img_array = tf.keras.applications.mobilenet_v2.preprocess_input(img_array)\n",
        "\n",
        "    return img_array\n",
        "\n",
        "def predict_aesthetic(img_url):\n",
        "    \"\"\"Predict the aesthetic category of the album cover.\"\"\"\n",
        "    img_array = preprocess_image(img_url)\n",
        "\n",
        "    # If the image preprocessing failed, return\n",
        "    if img_array is None:\n",
        "        return\n",
        "\n",
        "    # Make a prediction\n",
        "    predictions = model.predict(img_array)\n",
        "\n",
        "    # Decode the predictions\n",
        "    decoded_predictions = tf.keras.applications.mobilenet_v2.decode_predictions(predictions, top=5)[0]\n",
        "\n",
        "    # Print the top 5 predictions\n",
        "    for i, (imagenet_id, label, score) in enumerate(decoded_predictions):\n",
        "        print(f\"{i + 1}: {label} ({score:.2f})\")\n",
        "\n",
        "# Run it\n",
        "if __name__ == \"__main__\":\n",
        "    predict_aesthetic(album_cover_url)"
      ],
      "metadata": {
        "id": "pL2oW3hdpCsm",
        "colab": {
          "base_uri": "https://localhost:8080/"
        },
        "outputId": "aac8fceb-0397-4a67-dcf0-062243e5b85d"
      },
      "execution_count": 12,
      "outputs": [
        {
          "output_type": "stream",
          "name": "stdout",
          "text": [
            "Downloading data from https://storage.googleapis.com/tensorflow/keras-applications/mobilenet_v2/mobilenet_v2_weights_tf_dim_ordering_tf_kernels_1.0_224.h5\n",
            "\u001b[1m14536120/14536120\u001b[0m \u001b[32m━━━━━━━━━━━━━━━━━━━━\u001b[0m\u001b[37m\u001b[0m \u001b[1m0s\u001b[0m 0us/step\n",
            "Content type: image/jpeg\n",
            "\u001b[1m1/1\u001b[0m \u001b[32m━━━━━━━━━━━━━━━━━━━━\u001b[0m\u001b[37m\u001b[0m \u001b[1m1s\u001b[0m 1s/step\n",
            "Downloading data from https://storage.googleapis.com/download.tensorflow.org/data/imagenet_class_index.json\n",
            "\u001b[1m35363/35363\u001b[0m \u001b[32m━━━━━━━━━━━━━━━━━━━━\u001b[0m\u001b[37m\u001b[0m \u001b[1m0s\u001b[0m 0us/step\n",
            "1: electric_guitar (0.44)\n",
            "2: acoustic_guitar (0.14)\n",
            "3: pick (0.02)\n",
            "4: stage (0.02)\n",
            "5: harmonica (0.01)\n"
          ]
        }
      ]
    },
    {
      "cell_type": "markdown",
      "source": [
        "## Album Cover Color Classification"
      ],
      "metadata": {
        "id": "Ch2yvMs0ualh"
      }
    },
    {
      "cell_type": "code",
      "source": [
        "import requests\n",
        "from PIL import Image\n",
        "from io import BytesIO\n",
        "from colorthief import ColorThief\n",
        "\n",
        "# Custom color dictionary\n",
        "COLOR_DICT = {\n",
        "    'red': (255, 0, 0),\n",
        "    'green': (0, 128, 0),\n",
        "    'blue': (0, 0, 255),\n",
        "    'yellow': (255, 255, 0),\n",
        "    'cyan': (0, 255, 255),\n",
        "    'magenta': (255, 0, 255),\n",
        "    'black': (0, 0, 0),\n",
        "    'white': (255, 255, 255),\n",
        "    'gray': (128, 128, 128),\n",
        "    'orange': (255, 165, 0),\n",
        "    'purple': (128, 0, 128),\n",
        "    'pink': (255, 192, 203),\n",
        "    'brown': (165, 42, 42),\n",
        "    'lightblue': (173, 216, 230),\n",
        "    # Add more colors when I have time or try to get webcolors to work again\n",
        "}\n",
        "\n",
        "def fetch_image(img_url):\n",
        "    \"\"\"Fetch the image from the given URL.\"\"\"\n",
        "    # Set custom headers to include User-Agent\n",
        "    headers = {\n",
        "        'User-Agent': 'Mozilla/5.0 (Windows NT 10.0; Win64; x64) Gecko/20100101 Firefox/100.0',\n",
        "        'Accept': 'image/webp,*/*',\n",
        "        'Referer': 'https://www.example.com'  # Adjust this if necessary\n",
        "    }\n",
        "\n",
        "    # Load the image from the URL with custom headers\n",
        "    response = requests.get(img_url, headers=headers)\n",
        "\n",
        "    # Check if the request was successful\n",
        "    if response.status_code != 200:\n",
        "        print(f\"Error: Unable to fetch image, status code: {response.status_code}\")\n",
        "        return None\n",
        "\n",
        "    # Check content type\n",
        "    content_type = response.headers.get('Content-Type')\n",
        "    print(f\"Content type: {content_type}\")  # Debug statement\n",
        "\n",
        "    # Ensure the content type is an image\n",
        "    if 'image' not in content_type:\n",
        "        print(\"Error: URL does not point to an image.\")\n",
        "        return None\n",
        "\n",
        "    try:\n",
        "        img = Image.open(BytesIO(response.content))\n",
        "    except Exception as e:\n",
        "        print(\"Error opening image:\", e)\n",
        "        return None\n",
        "\n",
        "    return img\n",
        "\n",
        "def rgb_to_color_name(rgb):\n",
        "    \"\"\"Convert RGB values to the closest color name using the custom color dictionary.\"\"\"\n",
        "    # Normalize the RGB values\n",
        "    rgb = (rgb[0], rgb[1], rgb[2])  # Ensure it's a tuple\n",
        "\n",
        "    # Try to get the closest name based on the RGB value\n",
        "    closest_name = None\n",
        "    min_distance = float('inf')\n",
        "\n",
        "    # Iterate over the custom color dictionary\n",
        "    for name, color_rgb in COLOR_DICT.items():\n",
        "        # Calculate the Euclidean distance\n",
        "        distance = ((rgb[0] - color_rgb[0]) ** 2 +\n",
        "                     (rgb[1] - color_rgb[1]) ** 2 +\n",
        "                     (rgb[2] - color_rgb[2]) ** 2) ** 0.5\n",
        "\n",
        "        if distance < min_distance:\n",
        "            min_distance = distance\n",
        "            closest_name = name\n",
        "\n",
        "    return closest_name\n",
        "\n",
        "def extract_colors(img):\n",
        "    \"\"\"Extract colors from the image using ColorThief.\"\"\"\n",
        "    # Save the image to a temporary file for ColorThief\n",
        "    temp_file_path = \"temp_image.jpg\"\n",
        "    img.save(temp_file_path)\n",
        "\n",
        "    # Initialize ColorThief with the image\n",
        "    color_thief = ColorThief(temp_file_path)\n",
        "\n",
        "    # Get the dominant color\n",
        "    dominant_color = color_thief.get_color(quality=1)\n",
        "\n",
        "    # Build a color palette\n",
        "    palette = color_thief.get_palette(color_count=6)\n",
        "\n",
        "    return dominant_color, palette\n",
        "\n",
        "def analyze_album_cover(img_url):\n",
        "    \"\"\"Fetch and analyze the album cover for dominant colors.\"\"\"\n",
        "    img = fetch_image(img_url)\n",
        "\n",
        "    # If the image fetching failed, return\n",
        "    if img is None:\n",
        "        return\n",
        "\n",
        "    # Extract colors from the image\n",
        "    dominant_color, palette = extract_colors(img)\n",
        "\n",
        "    # Convert RGB to color names\n",
        "    dominant_color_name = rgb_to_color_name(dominant_color)\n",
        "    palette_names = [rgb_to_color_name(color) for color in palette]\n",
        "\n",
        "    # Print results\n",
        "    print(f\"Dominant Color: {dominant_color} - {dominant_color_name}\")\n",
        "    print(\"Color Palette:\")\n",
        "    for color, name in zip(palette, palette_names):\n",
        "        print(f\"{color} - {name}\")\n",
        "\n",
        "# Run it\n",
        "if __name__ == \"__main__\":\n",
        "    analyze_album_cover(album_cover_url)"
      ],
      "metadata": {
        "id": "LijAALREqZfd",
        "colab": {
          "base_uri": "https://localhost:8080/"
        },
        "outputId": "fd4e4b15-9b51-42ac-c238-1dc9c921988f"
      },
      "execution_count": 13,
      "outputs": [
        {
          "output_type": "stream",
          "name": "stdout",
          "text": [
            "Content type: image/jpeg\n",
            "Dominant Color: (200, 195, 190) - lightblue\n",
            "Color Palette:\n",
            "(200, 195, 190) - lightblue\n",
            "(61, 61, 62) - black\n",
            "(121, 120, 119) - gray\n",
            "(100, 91, 92) - gray\n",
            "(101, 100, 92) - gray\n",
            "(92, 100, 98) - gray\n"
          ]
        }
      ]
    },
    {
      "cell_type": "markdown",
      "source": [
        "."
      ],
      "metadata": {
        "id": "yoXyzUwX4Gls"
      }
    }
  ]
}